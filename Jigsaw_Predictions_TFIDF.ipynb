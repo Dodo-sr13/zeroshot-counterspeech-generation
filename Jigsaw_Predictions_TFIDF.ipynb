{
 "cells": [
  {
   "cell_type": "code",
   "execution_count": 1,
   "metadata": {},
   "outputs": [],
   "source": [
    "from DataHandler.data import  *\n",
    "from DataHandler.mapping import  *\n",
    "from DataHandler.preprocessing import  *\n",
    "from ModelCode.model import *\n",
    "\n",
    "import json\n",
    "import random\n",
    "import os\n",
    "import time\n",
    "\n",
    "from lime.lime_text import LimeTextExplainer\n",
    "\n",
    "import numpy as np\n",
    "import pandas as pd\n",
    "\n",
    "from sklearn.feature_extraction.text import TfidfVectorizer\n",
    "from sklearn.pipeline import Pipeline\n",
    "from sklearn.linear_model import Ridge\n",
    "\n",
    "from DataHandler.data import  *\n",
    "from DataHandler.mapping import  *\n",
    "\n",
    "from tqdm import tqdm\n",
    "from tqdm import tqdm_notebook\n",
    "import pickle"
   ]
  },
  {
   "cell_type": "code",
   "execution_count": 19,
   "metadata": {},
   "outputs": [],
   "source": [
    "params={\n",
    "      'dataset':'Dataset/jigsaw-toxic-severity-rating/validation_data.csv',\n",
    "      'model':'tfidf-reddit-val',\n",
    "      'cache_path':'../../Saved_models/',\n",
    "      'model_path':'tfidf',\n",
    "      'random_seed':2021,\n",
    "      'save_path':'Saved_Models/',\n",
    "      'logging':'local'  \n",
    "       }"
   ]
  },
  {
   "cell_type": "code",
   "execution_count": 20,
   "metadata": {},
   "outputs": [],
   "source": [
    "filename = 'Saved_Models/' + params['model'] + '/finalized_model.sav'\n",
    "tfidf = pickle.load(open(filename, 'rb'))\n"
   ]
  },
  {
   "cell_type": "code",
   "execution_count": 21,
   "metadata": {},
   "outputs": [],
   "source": [
    "test_df = pd.read_csv(params['dataset'])\n",
    "\n",
    "less = test_df['less_toxic'].copy()\n",
    "more = test_df['more_toxic'].copy()\n",
    "# less = [clean_text(text) for text in less]\n",
    "# more = [clean_text(text) for text in more]\n"
   ]
  },
  {
   "cell_type": "code",
   "execution_count": 22,
   "metadata": {},
   "outputs": [],
   "source": [
    "test_df['less_score'] = tfidf.predict(less)\n",
    "test_df['more_score'] = tfidf.predict(more)\n",
    "test_df['diff'] = test_df['less_score'] - test_df['more_score']"
   ]
  },
  {
   "cell_type": "code",
   "execution_count": 23,
   "metadata": {},
   "outputs": [
    {
     "data": {
      "text/html": [
       "<div>\n",
       "<style scoped>\n",
       "    .dataframe tbody tr th:only-of-type {\n",
       "        vertical-align: middle;\n",
       "    }\n",
       "\n",
       "    .dataframe tbody tr th {\n",
       "        vertical-align: top;\n",
       "    }\n",
       "\n",
       "    .dataframe thead th {\n",
       "        text-align: right;\n",
       "    }\n",
       "</style>\n",
       "<table border=\"1\" class=\"dataframe\">\n",
       "  <thead>\n",
       "    <tr style=\"text-align: right;\">\n",
       "      <th></th>\n",
       "      <th>worker</th>\n",
       "      <th>less_toxic</th>\n",
       "      <th>more_toxic</th>\n",
       "      <th>less_score</th>\n",
       "      <th>more_score</th>\n",
       "      <th>diff</th>\n",
       "    </tr>\n",
       "  </thead>\n",
       "  <tbody>\n",
       "    <tr>\n",
       "      <th>0</th>\n",
       "      <td>313</td>\n",
       "      <td>This article sucks \\n\\nwoo woo wooooooo</td>\n",
       "      <td>WHAT!!!!!!!!?!?!!?!?!!?!?!?!?!!!!!!!!!!!!!!!!!...</td>\n",
       "      <td>0.386273</td>\n",
       "      <td>0.470183</td>\n",
       "      <td>-0.083911</td>\n",
       "    </tr>\n",
       "    <tr>\n",
       "      <th>1</th>\n",
       "      <td>188</td>\n",
       "      <td>\"And yes, people should recognize that but the...</td>\n",
       "      <td>Daphne Guinness \\n\\nTop of the mornin' my fav...</td>\n",
       "      <td>0.447289</td>\n",
       "      <td>0.451530</td>\n",
       "      <td>-0.004241</td>\n",
       "    </tr>\n",
       "    <tr>\n",
       "      <th>2</th>\n",
       "      <td>82</td>\n",
       "      <td>Western Media?\\n\\nYup, because every crime in...</td>\n",
       "      <td>\"Atom you don't believe actual photos of mastu...</td>\n",
       "      <td>0.574796</td>\n",
       "      <td>0.519697</td>\n",
       "      <td>0.055099</td>\n",
       "    </tr>\n",
       "    <tr>\n",
       "      <th>3</th>\n",
       "      <td>347</td>\n",
       "      <td>And you removed it! You numbskull! I don't car...</td>\n",
       "      <td>You seem to have sand in your vagina.\\n\\nMight...</td>\n",
       "      <td>0.480101</td>\n",
       "      <td>0.605897</td>\n",
       "      <td>-0.125796</td>\n",
       "    </tr>\n",
       "    <tr>\n",
       "      <th>4</th>\n",
       "      <td>539</td>\n",
       "      <td>smelly vagina \\n\\nBluerasberry why don't you ...</td>\n",
       "      <td>hey \\n\\nway to support nazis, you racist</td>\n",
       "      <td>0.464583</td>\n",
       "      <td>0.644866</td>\n",
       "      <td>-0.180283</td>\n",
       "    </tr>\n",
       "    <tr>\n",
       "      <th>...</th>\n",
       "      <td>...</td>\n",
       "      <td>...</td>\n",
       "      <td>...</td>\n",
       "      <td>...</td>\n",
       "      <td>...</td>\n",
       "      <td>...</td>\n",
       "    </tr>\n",
       "    <tr>\n",
       "      <th>30103</th>\n",
       "      <td>461</td>\n",
       "      <td>I'm sorry. I'm not an admin. I will give you t...</td>\n",
       "      <td>get out my large penis</td>\n",
       "      <td>0.614552</td>\n",
       "      <td>0.357963</td>\n",
       "      <td>0.256590</td>\n",
       "    </tr>\n",
       "    <tr>\n",
       "      <th>30104</th>\n",
       "      <td>527</td>\n",
       "      <td>I'm sorry. I'm not an admin. I will give you t...</td>\n",
       "      <td>get out my large penis</td>\n",
       "      <td>0.614552</td>\n",
       "      <td>0.357963</td>\n",
       "      <td>0.256590</td>\n",
       "    </tr>\n",
       "    <tr>\n",
       "      <th>30105</th>\n",
       "      <td>352</td>\n",
       "      <td>wow...\\nare you out of your mind, how was my e...</td>\n",
       "      <td>Piss off you slant eyed-gook</td>\n",
       "      <td>0.437005</td>\n",
       "      <td>0.513746</td>\n",
       "      <td>-0.076741</td>\n",
       "    </tr>\n",
       "    <tr>\n",
       "      <th>30106</th>\n",
       "      <td>311</td>\n",
       "      <td>wow...\\nare you out of your mind, how was my e...</td>\n",
       "      <td>Piss off you slant eyed-gook</td>\n",
       "      <td>0.437005</td>\n",
       "      <td>0.513746</td>\n",
       "      <td>-0.076741</td>\n",
       "    </tr>\n",
       "    <tr>\n",
       "      <th>30107</th>\n",
       "      <td>54</td>\n",
       "      <td>wow...\\nare you out of your mind, how was my e...</td>\n",
       "      <td>Piss off you slant eyed-gook</td>\n",
       "      <td>0.437005</td>\n",
       "      <td>0.513746</td>\n",
       "      <td>-0.076741</td>\n",
       "    </tr>\n",
       "  </tbody>\n",
       "</table>\n",
       "<p>30108 rows × 6 columns</p>\n",
       "</div>"
      ],
      "text/plain": [
       "       worker                                         less_toxic  \\\n",
       "0         313            This article sucks \\n\\nwoo woo wooooooo   \n",
       "1         188  \"And yes, people should recognize that but the...   \n",
       "2          82   Western Media?\\n\\nYup, because every crime in...   \n",
       "3         347  And you removed it! You numbskull! I don't car...   \n",
       "4         539   smelly vagina \\n\\nBluerasberry why don't you ...   \n",
       "...       ...                                                ...   \n",
       "30103     461  I'm sorry. I'm not an admin. I will give you t...   \n",
       "30104     527  I'm sorry. I'm not an admin. I will give you t...   \n",
       "30105     352  wow...\\nare you out of your mind, how was my e...   \n",
       "30106     311  wow...\\nare you out of your mind, how was my e...   \n",
       "30107      54  wow...\\nare you out of your mind, how was my e...   \n",
       "\n",
       "                                              more_toxic  less_score  \\\n",
       "0      WHAT!!!!!!!!?!?!!?!?!!?!?!?!?!!!!!!!!!!!!!!!!!...    0.386273   \n",
       "1       Daphne Guinness \\n\\nTop of the mornin' my fav...    0.447289   \n",
       "2      \"Atom you don't believe actual photos of mastu...    0.574796   \n",
       "3      You seem to have sand in your vagina.\\n\\nMight...    0.480101   \n",
       "4               hey \\n\\nway to support nazis, you racist    0.464583   \n",
       "...                                                  ...         ...   \n",
       "30103                             get out my large penis    0.614552   \n",
       "30104                             get out my large penis    0.614552   \n",
       "30105                       Piss off you slant eyed-gook    0.437005   \n",
       "30106                       Piss off you slant eyed-gook    0.437005   \n",
       "30107                       Piss off you slant eyed-gook    0.437005   \n",
       "\n",
       "       more_score      diff  \n",
       "0        0.470183 -0.083911  \n",
       "1        0.451530 -0.004241  \n",
       "2        0.519697  0.055099  \n",
       "3        0.605897 -0.125796  \n",
       "4        0.644866 -0.180283  \n",
       "...           ...       ...  \n",
       "30103    0.357963  0.256590  \n",
       "30104    0.357963  0.256590  \n",
       "30105    0.513746 -0.076741  \n",
       "30106    0.513746 -0.076741  \n",
       "30107    0.513746 -0.076741  \n",
       "\n",
       "[30108 rows x 6 columns]"
      ]
     },
     "execution_count": 23,
     "metadata": {},
     "output_type": "execute_result"
    }
   ],
   "source": [
    "# test_df.drop(columns = ['worker'], inplace=True)\n",
    "test_df"
   ]
  },
  {
   "cell_type": "code",
   "execution_count": 24,
   "metadata": {},
   "outputs": [],
   "source": [
    "test_df.to_csv('Predicitions/' + params['model'] + '.csv', index=False)"
   ]
  },
  {
   "cell_type": "code",
   "execution_count": 25,
   "metadata": {},
   "outputs": [],
   "source": [
    "misclass = test_df[test_df['diff'] >= 0]"
   ]
  },
  {
   "cell_type": "code",
   "execution_count": 26,
   "metadata": {},
   "outputs": [
    {
     "name": "stderr",
     "output_type": "stream",
     "text": [
      "<ipython-input-26-cd547b7b836f>:1: SettingWithCopyWarning: \n",
      "A value is trying to be set on a copy of a slice from a DataFrame\n",
      "\n",
      "See the caveats in the documentation: https://pandas.pydata.org/pandas-docs/stable/user_guide/indexing.html#returning-a-view-versus-a-copy\n",
      "  misclass.sort_values('diff', ascending=False, inplace=True)\n"
     ]
    }
   ],
   "source": [
    "misclass.sort_values('diff', ascending=False, inplace=True)"
   ]
  },
  {
   "cell_type": "code",
   "execution_count": 27,
   "metadata": {},
   "outputs": [
    {
     "name": "stderr",
     "output_type": "stream",
     "text": [
      "<ipython-input-27-04daaf1f665e>:1: SettingWithCopyWarning: \n",
      "A value is trying to be set on a copy of a slice from a DataFrame\n",
      "\n",
      "See the caveats in the documentation: https://pandas.pydata.org/pandas-docs/stable/user_guide/indexing.html#returning-a-view-versus-a-copy\n",
      "  misclass.drop_duplicates(subset=['less_toxic', 'more_toxic'], keep='first', inplace=True)\n"
     ]
    }
   ],
   "source": [
    "misclass.drop_duplicates(subset=['less_toxic', 'more_toxic'], keep='first', inplace=True)"
   ]
  },
  {
   "cell_type": "code",
   "execution_count": 28,
   "metadata": {},
   "outputs": [],
   "source": [
    "misclass = misclass.head(200)"
   ]
  },
  {
   "cell_type": "code",
   "execution_count": 29,
   "metadata": {},
   "outputs": [],
   "source": [
    "misclass.to_csv('Top200Misclassified/' + params['model'] + '.csv', index=False)"
   ]
  },
  {
   "cell_type": "code",
   "execution_count": null,
   "metadata": {},
   "outputs": [],
   "source": []
  },
  {
   "cell_type": "code",
   "execution_count": null,
   "metadata": {},
   "outputs": [],
   "source": []
  }
 ],
 "metadata": {
  "kernelspec": {
   "display_name": "Python [conda env:.conda-punyajoy_gpu] *",
   "language": "python",
   "name": "conda-env-.conda-punyajoy_gpu-py"
  },
  "language_info": {
   "codemirror_mode": {
    "name": "ipython",
    "version": 3
   },
   "file_extension": ".py",
   "mimetype": "text/x-python",
   "name": "python",
   "nbconvert_exporter": "python",
   "pygments_lexer": "ipython3",
   "version": "3.8.5"
  }
 },
 "nbformat": 4,
 "nbformat_minor": 4
}
