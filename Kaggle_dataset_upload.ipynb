{
 "cells": [
  {
   "cell_type": "code",
   "execution_count": 8,
   "metadata": {},
   "outputs": [],
   "source": [
    "model = \"roberta-base-hate-toxic-unintended\""
   ]
  },
  {
   "cell_type": "code",
   "execution_count": 9,
   "metadata": {
    "scrolled": true
   },
   "outputs": [
    {
     "name": "stdout",
     "output_type": "stream",
     "text": [
      "Data package template written to: Saved_Models/twitter-roberta-base-hate_toxic_unintended/dataset-metadata.json\r\n"
     ]
    }
   ],
   "source": [
    "!kaggle datasets init -p Saved_Models/twitter-roberta-base-hate_toxic_unintended/"
   ]
  },
  {
   "cell_type": "code",
   "execution_count": 10,
   "metadata": {},
   "outputs": [],
   "source": [
    "import json\n",
    "\n",
    "with open('Saved_Models/'+ 'twitter-roberta-base-hate_toxic_unintended' + '/dataset-metadata.json', \"r+\") as f:\n",
    "    data = json.load(f)\n",
    "    data['title'] = \"roberta base hate toxic unintended\"\n",
    "    data['id'] = \"millon1/\" + model \n",
    "    f.seek(0)\n",
    "    json.dump(data, f)\n",
    "    f.truncate()"
   ]
  },
  {
   "cell_type": "code",
   "execution_count": 11,
   "metadata": {},
   "outputs": [
    {
     "name": "stdout",
     "output_type": "stream",
     "text": [
      "Starting upload for file special_tokens_map.json\n",
      "100%|███████████████████████████████████████████| 150/150 [00:03<00:00, 39.5B/s]\n",
      "Upload successful: special_tokens_map.json (150B)\n",
      "Starting upload for file merges.txt\n",
      "100%|█████████████████████████████████████████| 446k/446k [00:03<00:00, 116kB/s]\n",
      "Upload successful: merges.txt (446KB)\n",
      "Starting upload for file pytorch_model.bin\n",
      "100%|████████████████████████████████████████| 476M/476M [00:51<00:00, 9.75MB/s]\n",
      "Upload successful: pytorch_model.bin (476MB)\n",
      "Starting upload for file training_args.bin\n",
      "100%|████████████████████████████████████████████| 768/768 [00:04<00:00, 161B/s]\n",
      "Upload successful: training_args.bin (768B)\n",
      "Starting upload for file tokenizer_config.json\n",
      "100%|████████████████████████████████████████| 1.22k/1.22k [00:03<00:00, 342B/s]\n",
      "Upload successful: tokenizer_config.json (1KB)\n",
      "Starting upload for file config.json\n",
      "100%|███████████████████████████████████████████| 674/674 [00:07<00:00, 92.9B/s]\n",
      "Upload successful: config.json (674B)\n",
      "Starting upload for file vocab.json\n",
      "100%|█████████████████████████████████████████| 878k/878k [00:04<00:00, 186kB/s]\n",
      "Upload successful: vocab.json (878KB)\n",
      "Your private Dataset is being created. Please check progress at https://www.kaggle.com/millon1/roberta-base-hate-toxic-unintended\n"
     ]
    }
   ],
   "source": [
    "!kaggle datasets create -p Saved_Models/twitter-roberta-base-hate_toxic_unintended"
   ]
  },
  {
   "cell_type": "code",
   "execution_count": null,
   "metadata": {},
   "outputs": [],
   "source": [
    "!kaggle datasets version -p Saved_Models/bert-base-uncased_toxic_comment-early_merge -m \"bert-base-uncased_toxic_comment-early_merge for prediction\""
   ]
  },
  {
   "cell_type": "code",
   "execution_count": null,
   "metadata": {},
   "outputs": [],
   "source": []
  }
 ],
 "metadata": {
  "kernelspec": {
   "display_name": "Python [conda env:.conda-punyajoy_gpu] *",
   "language": "python",
   "name": "conda-env-.conda-punyajoy_gpu-py"
  },
  "language_info": {
   "codemirror_mode": {
    "name": "ipython",
    "version": 3
   },
   "file_extension": ".py",
   "mimetype": "text/x-python",
   "name": "python",
   "nbconvert_exporter": "python",
   "pygments_lexer": "ipython3",
   "version": "3.8.5"
  }
 },
 "nbformat": 4,
 "nbformat_minor": 4
}
