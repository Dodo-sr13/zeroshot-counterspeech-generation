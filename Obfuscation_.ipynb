{
 "cells": [
  {
   "cell_type": "code",
   "execution_count": 1,
   "metadata": {},
   "outputs": [
    {
     "name": "stdout",
     "output_type": "stream",
     "text": [
      "\u001b[1m\u001b[37masterix\u001b[m  Fri Dec 24 20:58:19 2021\r\n",
      "\u001b[36m[0]\u001b[m \u001b[34mTesla P100-PCIE-16GB\u001b[m |\u001b[1m\u001b[31m 59'C\u001b[m, \u001b[1m\u001b[32m100 %\u001b[m | \u001b[36m\u001b[1m\u001b[33m13619\u001b[m / \u001b[33m16280\u001b[m MB | \u001b[1m\u001b[30madarsh-binny\u001b[m(\u001b[33m1851M\u001b[m) \u001b[1m\u001b[30mbishal\u001b[m(\u001b[33m4743M\u001b[m) \u001b[1m\u001b[30mpunyajoy\u001b[m(\u001b[33m7023M\u001b[m)\r\n",
      "\u001b[36m[1]\u001b[m \u001b[34mTesla P100-PCIE-16GB\u001b[m |\u001b[1m\u001b[31m 57'C\u001b[m, \u001b[1m\u001b[32m100 %\u001b[m | \u001b[36m\u001b[1m\u001b[33m15936\u001b[m / \u001b[33m16280\u001b[m MB | \u001b[1m\u001b[30mbishal\u001b[m(\u001b[33m4447M\u001b[m) \u001b[1m\u001b[30mpunyajoy\u001b[m(\u001b[33m11487M\u001b[m)\r\n"
     ]
    }
   ],
   "source": [
    "!gpustat"
   ]
  },
  {
   "cell_type": "code",
   "execution_count": 3,
   "metadata": {},
   "outputs": [],
   "source": [
    "import numpy as np\n",
    "import pandas as pd\n",
    "import re\n",
    "import tqdm as tqdm"
   ]
  },
  {
   "cell_type": "code",
   "execution_count": 49,
   "metadata": {},
   "outputs": [],
   "source": [
    "\n",
    "# df_train = pd.read_csv(\"Dataset/jigsaw-toxic-comment-classification-challenge/train.csv\")\n",
    "# df_test = pd.read_csv(\"Dataset/jigsaw-toxic-comment-classification-challenge/test.csv\")\n",
    "# df_test_labels = pd.read_csv(\"Dataset/jigsaw-toxic-comment-classification-challenge/test_labels.csv\")\n",
    "# df_test=df_test.merge(df_test_labels, how='inner', on='id')\n",
    "# df_total=pd.concat([df_train,df_test]).reset_index(drop=True)\n",
    "# df_total=df_total[df_total['toxic']!=-1]\n",
    "# df_total = df_total.rename(columns={\"comment_text\": \"text\"})\n",
    "\n",
    "\n",
    "# val_df = pd.read_csv(\"Dataset/jigsaw-toxic-severity-rating/validation_data.csv\")\n",
    "# val_df.drop_duplicates(subset=['less_toxic', 'more_toxic'], keep='first', inplace=True)\n",
    "# val_df.reset_index(inplace=True)\n",
    "# df1 = val_df.drop(columns=['index','worker','more_toxic'])\n",
    "# df2 = val_df.drop(columns=['index','worker','less_toxic'])\n",
    "# df1.rename(columns={'less_toxic':'text'}, inplace=True)\n",
    "# df2.rename(columns={'more_toxic':'text'}, inplace=True)\n",
    "# frames = [df1, df2]\n",
    "# df_total = pd.concat(frames)\n",
    "\n",
    "\n",
    "df_total = pd.read_csv(\"Dataset/jigsaw-toxic-severity-rating/comments_to_score.csv\")\n"
   ]
  },
  {
   "cell_type": "code",
   "execution_count": 50,
   "metadata": {},
   "outputs": [
    {
     "data": {
      "text/html": [
       "<div>\n",
       "<style scoped>\n",
       "    .dataframe tbody tr th:only-of-type {\n",
       "        vertical-align: middle;\n",
       "    }\n",
       "\n",
       "    .dataframe tbody tr th {\n",
       "        vertical-align: top;\n",
       "    }\n",
       "\n",
       "    .dataframe thead th {\n",
       "        text-align: right;\n",
       "    }\n",
       "</style>\n",
       "<table border=\"1\" class=\"dataframe\">\n",
       "  <thead>\n",
       "    <tr style=\"text-align: right;\">\n",
       "      <th></th>\n",
       "      <th>comment_id</th>\n",
       "      <th>text</th>\n",
       "    </tr>\n",
       "  </thead>\n",
       "  <tbody>\n",
       "    <tr>\n",
       "      <th>0</th>\n",
       "      <td>114890</td>\n",
       "      <td>\"\\n \\n\\nGjalexei, you asked about whether ther...</td>\n",
       "    </tr>\n",
       "    <tr>\n",
       "      <th>1</th>\n",
       "      <td>732895</td>\n",
       "      <td>Looks like be have an abuser , can you please ...</td>\n",
       "    </tr>\n",
       "    <tr>\n",
       "      <th>2</th>\n",
       "      <td>1139051</td>\n",
       "      <td>I confess to having complete (and apparently b...</td>\n",
       "    </tr>\n",
       "    <tr>\n",
       "      <th>3</th>\n",
       "      <td>1434512</td>\n",
       "      <td>\"\\n\\nFreud's ideas are certainly much discusse...</td>\n",
       "    </tr>\n",
       "    <tr>\n",
       "      <th>4</th>\n",
       "      <td>2084821</td>\n",
       "      <td>It is not just you. This is a laundry list of ...</td>\n",
       "    </tr>\n",
       "    <tr>\n",
       "      <th>...</th>\n",
       "      <td>...</td>\n",
       "      <td>...</td>\n",
       "    </tr>\n",
       "    <tr>\n",
       "      <th>7532</th>\n",
       "      <td>504235362</td>\n",
       "      <td>Go away, you annoying vandal.</td>\n",
       "    </tr>\n",
       "    <tr>\n",
       "      <th>7533</th>\n",
       "      <td>504235566</td>\n",
       "      <td>This user is a vandal.</td>\n",
       "    </tr>\n",
       "    <tr>\n",
       "      <th>7534</th>\n",
       "      <td>504308177</td>\n",
       "      <td>\" \\n\\nSorry to sound like a pain, but one by f...</td>\n",
       "    </tr>\n",
       "    <tr>\n",
       "      <th>7535</th>\n",
       "      <td>504570375</td>\n",
       "      <td>Well it's pretty fucking irrelevant now I'm un...</td>\n",
       "    </tr>\n",
       "    <tr>\n",
       "      <th>7536</th>\n",
       "      <td>504598250</td>\n",
       "      <td>The team name is Great Britain and Northern Ir...</td>\n",
       "    </tr>\n",
       "  </tbody>\n",
       "</table>\n",
       "<p>7537 rows × 2 columns</p>\n",
       "</div>"
      ],
      "text/plain": [
       "      comment_id                                               text\n",
       "0         114890  \"\\n \\n\\nGjalexei, you asked about whether ther...\n",
       "1         732895  Looks like be have an abuser , can you please ...\n",
       "2        1139051  I confess to having complete (and apparently b...\n",
       "3        1434512  \"\\n\\nFreud's ideas are certainly much discusse...\n",
       "4        2084821  It is not just you. This is a laundry list of ...\n",
       "...          ...                                                ...\n",
       "7532   504235362                      Go away, you annoying vandal.\n",
       "7533   504235566                           This user is a vandal.  \n",
       "7534   504308177  \" \\n\\nSorry to sound like a pain, but one by f...\n",
       "7535   504570375  Well it's pretty fucking irrelevant now I'm un...\n",
       "7536   504598250  The team name is Great Britain and Northern Ir...\n",
       "\n",
       "[7537 rows x 2 columns]"
      ]
     },
     "execution_count": 50,
     "metadata": {},
     "output_type": "execute_result"
    }
   ],
   "source": [
    "df_total"
   ]
  },
  {
   "cell_type": "code",
   "execution_count": 57,
   "metadata": {},
   "outputs": [],
   "source": [
    "\n",
    "\n",
    "hatelist = open('Dataset/cursing_lexicon.txt').read().splitlines()\n",
    "hatelist = [re.escape(s) for s in hatelist]\n",
    "# pattern = '|'.join(hatelist)\n",
    "# df_total['obfuscation'] = df_total['text'].str.match(pattern, case=False)\n",
    "# # df_total['racial'] = df_total['racial'].astype(int)\n",
    "\n",
    "\n"
   ]
  },
  {
   "cell_type": "code",
   "execution_count": 58,
   "metadata": {},
   "outputs": [],
   "source": [
    "for item in hatelist:\n",
    "    df_total[item] =  (df_total['text'].str.match(item, case=False)).astype(int)"
   ]
  },
  {
   "cell_type": "code",
   "execution_count": 53,
   "metadata": {},
   "outputs": [],
   "source": [
    "# df = df_total.drop(columns=['text'])\n",
    "df = df_total.drop(columns=['comment_id','text'])"
   ]
  },
  {
   "cell_type": "code",
   "execution_count": 54,
   "metadata": {},
   "outputs": [
    {
     "name": "stdout",
     "output_type": "stream",
     "text": [
      "ass : 4\n",
      "asshole : 4\n",
      "assholes : 1\n",
      "bitch : 1\n",
      "bullshit : 4\n",
      "cum : 1\n",
      "cunt : 1\n",
      "dick : 1\n",
      "dickhead : 1\n",
      "douche : 3\n",
      "douchebag : 1\n",
      "dumb\\ ass : 1\n",
      "f\\-u\\-c\\-k : 1\n",
      "fag : 5\n",
      "fagg : 2\n",
      "faggot : 1\n",
      "fags : 2\n",
      "fuck : 75\n",
      "fuck\\ off : 7\n",
      "fuckface : 1\n",
      "fuckin : 8\n",
      "fucking : 8\n",
      "gai : 1\n",
      "gtfo : 1\n",
      "hell : 14\n",
      "ho : 37\n",
      "homo : 1\n",
      "jackass : 1\n",
      "lmao : 3\n",
      "motherfucker : 1\n",
      "nigga : 1\n",
      "nigger : 2\n",
      "niggers : 1\n",
      "piss : 4\n",
      "pussy : 1\n",
      "shit : 2\n",
      "wtf : 5\n",
      "f\\*\\*\\* : 1\n",
      "\"hell : 3\n",
      "fucka : 1\n",
      "nigg : 3\n",
      "fak : 2\n",
      "fuc : 75\n",
      "gtf : 1\n",
      "shet : 1\n"
     ]
    }
   ],
   "source": [
    "for col in df.columns:\n",
    "    if df[col].sum() > 0:\n",
    "        print(col, ':', df[col].sum())\n"
   ]
  },
  {
   "cell_type": "code",
   "execution_count": null,
   "metadata": {},
   "outputs": [],
   "source": []
  }
 ],
 "metadata": {
  "kernelspec": {
   "display_name": "Python [conda env:.conda-punyajoy_gpu] *",
   "language": "python",
   "name": "conda-env-.conda-punyajoy_gpu-py"
  },
  "language_info": {
   "codemirror_mode": {
    "name": "ipython",
    "version": 3
   },
   "file_extension": ".py",
   "mimetype": "text/x-python",
   "name": "python",
   "nbconvert_exporter": "python",
   "pygments_lexer": "ipython3",
   "version": "3.8.5"
  }
 },
 "nbformat": 4,
 "nbformat_minor": 4
}
