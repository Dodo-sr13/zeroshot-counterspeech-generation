{
 "cells": [
  {
   "cell_type": "code",
   "execution_count": 1,
   "metadata": {},
   "outputs": [],
   "source": [
    "from DataHandler.data import  *\n",
    "from DataHandler.mapping import  *\n",
    "from DataHandler.preprocessing import  *\n",
    "from ModelCode.model import *\n",
    "\n",
    "import json\n",
    "import random\n",
    "import os\n",
    "import time\n",
    "\n",
    "from lime.lime_text import LimeTextExplainer\n",
    "\n",
    "import numpy as np\n",
    "import pandas as pd\n",
    "\n",
    "from sklearn.feature_extraction.text import TfidfVectorizer\n",
    "from sklearn.pipeline import Pipeline\n",
    "from sklearn.linear_model import Ridge\n",
    "\n",
    "from DataHandler.data import  *\n",
    "from DataHandler.mapping import  *\n",
    "\n",
    "from tqdm import tqdm\n",
    "from tqdm import tqdm_notebook"
   ]
  },
  {
   "cell_type": "code",
   "execution_count": 2,
   "metadata": {},
   "outputs": [],
   "source": [
    "\n",
    "params={\n",
    "  'dataset':'reddit',\n",
    "  'model':'tfidf',\n",
    "  'cache_path':'../../Saved_models/',\n",
    "  'model_path':'tfidf',\n",
    "  'random_seed':2021,\n",
    "  'save_path':'Saved_Models/',\n",
    "  'logging':'local',\n",
    "  \n",
    "}"
   ]
  },
  {
   "cell_type": "code",
   "execution_count": 3,
   "metadata": {},
   "outputs": [
    {
     "name": "stderr",
     "output_type": "stream",
     "text": [
      "100%|██████████| 5748/5748 [00:00<00:00, 18189.02it/s]\n"
     ]
    }
   ],
   "source": [
    "def get_dictionary(params):\n",
    "    \n",
    "    if(params['dataset']=='toxic_comment'):\n",
    "        dict_mapping={\n",
    "            'severe_toxic':12,\n",
    "            'obscene':5,\n",
    "            'threat':8,\n",
    "            'insult':6,\n",
    "            'identity_hate':9,\n",
    "            'toxic':4\n",
    "        }\n",
    "        \n",
    "    elif(params['dataset']=='toxic_unintended'):\n",
    "        dict_mapping={\n",
    "            'severe_toxic':12,\n",
    "            'obscene':5,\n",
    "            'threat':8,\n",
    "            'insult':6,\n",
    "            'identity_hate':9\n",
    "        }\n",
    "        \n",
    "    return dict_mapping\n",
    "\n",
    "\n",
    "##### JIGSAW TOXIC COMMENT\n",
    "if(params['dataset']=='toxic_comment'):\n",
    "    df_train = pd.read_csv(\"Dataset/jigsaw-toxic-comment-classification-challenge/train.csv\")\n",
    "    df_test = pd.read_csv(\"Dataset/jigsaw-toxic-comment-classification-challenge/test.csv\")\n",
    "    df_test_labels = pd.read_csv(\"Dataset/jigsaw-toxic-comment-classification-challenge/test_labels.csv\")\n",
    "    df_test=df_test.merge(df_test_labels, how='inner', on='id')\n",
    "    df_total=pd.concat([df_train,df_test]).reset_index(drop=True)\n",
    "    df_total=df_total[df_total['toxic']!=-1]\n",
    "\n",
    "\n",
    "#     dict_mapping=get_dictionary(params)\n",
    "\n",
    "#     list_labels=convert_kaggle(df_total,dict_mapping)\n",
    "#     df_total['label']=list_labels\n",
    "\n",
    "    df_total = df_total.rename(columns={\"comment_text\": \"text\"})\n",
    "\n",
    "#     df_total = df_total.head(1000)\n",
    "\n",
    "    ###uncomment for using summed mapping\n",
    "    df_total['severe_toxic'] = df_total.severe_toxic * 2\n",
    "    df_total['label'] = df_total.iloc[:, 2:9].sum(axis = 1)\n",
    "    df_total['label']  = df_total['label']/df_total['label'].max()\n",
    "\n",
    "\n",
    "#         # uncomment the line below if we need to balance the dataset\n",
    "#         df_toxic=df_total[df_total['toxic']==1]\n",
    "#         df_non_toxic=df_total[df_total['toxic']==0].sample(n = len(df_toxic))\n",
    "#         df_total=pd.concat([df_toxic, df_non_toxic]).reset_index(drop=True)\n",
    "\n",
    "if(params['dataset']=='toxic_unintended'):\n",
    "    df_total=pd.read_csv('Dataset/jigsaw-unintended-bias-in-toxicity-classification/all_data.csv')\n",
    "    df_total=df_total[df_total['comment_text'].notna()]\n",
    "    dict_mapping=get_dictionary(params)\n",
    "    list_labels=convert_kaggle_unintended(df_total,dict_mapping)\n",
    "    df_total['label']=list_labels\n",
    "    df_total = df_total.rename(columns={\"comment_text\": \"text\"})\n",
    "    # uncomment the line below if we need to balance the dataset\n",
    "    df_toxic=df_total[df_total['toxicity']>0]\n",
    "    df_non_toxic=df_total[df_total['toxicity']==0].sample(n = len(df_toxic))\n",
    "    df_total=pd.concat([df_toxic, df_non_toxic]).reset_index(drop=True)\n",
    "#     df_total = df_total.head(1000)\n",
    "    \n",
    "    \n",
    "if(params['dataset']=='reddit'):\n",
    "    df_total=pd.read_csv('Dataset/Ruddit_comments.csv')\n",
    "    df_total=df_total[df_total['comments'].notna()]\n",
    "    df_total=df_total[df_total['comments']!='[deleted]']\n",
    "    list_labels=convert_reddit(df_total)\n",
    "    df_total['label']=list_labels\n",
    "    df_total = df_total.rename(columns={\"comments\": \"text\"})\n",
    "if(params['dataset']=='davidson'):\n",
    "    df_total=pd.read_csv('Dataset/Davidson.csv')\n",
    "    list_labels=convert_davidson(df_total)\n",
    "    df_total['label']=list_labels\n",
    "    df_total = df_total.rename(columns={\"tweet\": \"text\"})\n",
    "if(params['dataset']=='founta'):\n",
    "    df_total=pd.read_csv('Dataset/founta.csv')\n",
    "    list_labels=convert_founta(df_total)\n",
    "    df_total['label']=list_labels\n",
    "if(params['dataset']=='ensemble'):\n",
    "    df_total=pd.read_csv('Dataset/ensemble_val_preds.csv')\n",
    "    df_total = df_total.rename(columns={\"score\": \"label\"})\n",
    "\n",
    "\n",
    "# df_total['text'] = [clean_text(text) for text in df_total['text']]\n",
    "\n",
    "\n",
    "# ## validation dataset\n",
    "# val_df = pd.read_csv(\"Dataset/jigsaw-toxic-severity-rating/validation_data.csv\")\n",
    "# val_df.drop_duplicates(subset=['less_toxic', 'more_toxic'], keep='first', inplace=True)\n",
    "# val_df.reset_index(inplace=True)\n",
    "\n",
    "# # val_df = val_df.head(1000)\n",
    "\n",
    "# ### Creating the datasets\n",
    "# train_dataset = df_total.reset_index(drop=True)\n",
    "# test1,test2 = get_validation(val_df)\n",
    "# print(\"TRAIN Dataset: {}\".format(train_dataset.shape))\n",
    "# print(\"VAL Dataset: {}\".format(val_df.shape))\n",
    "# # test1 = [clean_text(text) for text in test1]\n",
    "# # test2 = [clean_text(text) for text in test2]\n"
   ]
  },
  {
   "cell_type": "code",
   "execution_count": 4,
   "metadata": {},
   "outputs": [
    {
     "data": {
      "text/plain": [
       "Pipeline(steps=[('tfidf',\n",
       "                 TfidfVectorizer(analyzer='char_wb', max_df=0.5, min_df=3,\n",
       "                                 ngram_range=(3, 5))),\n",
       "                ('clf', Ridge(alpha=1))])"
      ]
     },
     "execution_count": 4,
     "metadata": {},
     "output_type": "execute_result"
    }
   ],
   "source": [
    "pipeline = Pipeline([\n",
    "#             (\"tfidf\", TfidfVectorizer(min_df= min_df, max_df=min_df+offset, analyzer = 'char_wb', ngram_range = (3,5), max_features = max_features)),\n",
    "#      (\"tfidf\", TfidfVectorizer(min_df= 3, max_df=0.5, analyzer = 'char_wb', ngram_range = (3,5), max_features = 10000)),\n",
    "     (\"tfidf\", TfidfVectorizer(min_df= 3, max_df=0.5, analyzer = 'char_wb', ngram_range = (3,5))),\n",
    "    \n",
    "     (\"clf\", Ridge(alpha=1))\n",
    "]) \n",
    "\n",
    "# Train the pipeline\n",
    "pipeline.fit(df_total['text'], df_total['label'])\n",
    "\n",
    "# p1 = pipeline.predict(test1['text'])\n",
    "# p2 = pipeline.predict(test2['text'])\n",
    "\n",
    "# acc = np.round((p1 < p2).mean() * 100,2)\n",
    "#     return acc\n"
   ]
  },
  {
   "cell_type": "code",
   "execution_count": 5,
   "metadata": {},
   "outputs": [],
   "source": [
    "import pickle\n",
    "filename = 'finalized_model1.sav'\n",
    "pickle.dump(pipeline, open(filename, 'wb'))"
   ]
  },
  {
   "cell_type": "code",
   "execution_count": null,
   "metadata": {},
   "outputs": [],
   "source": []
  },
  {
   "cell_type": "code",
   "execution_count": null,
   "metadata": {},
   "outputs": [],
   "source": []
  },
  {
   "cell_type": "code",
   "execution_count": null,
   "metadata": {},
   "outputs": [],
   "source": []
  }
 ],
 "metadata": {
  "kernelspec": {
   "display_name": "Python [conda env:.conda-punyajoy_gpu] *",
   "language": "python",
   "name": "conda-env-.conda-punyajoy_gpu-py"
  },
  "language_info": {
   "codemirror_mode": {
    "name": "ipython",
    "version": 3
   },
   "file_extension": ".py",
   "mimetype": "text/x-python",
   "name": "python",
   "nbconvert_exporter": "python",
   "pygments_lexer": "ipython3",
   "version": "3.8.5"
  }
 },
 "nbformat": 4,
 "nbformat_minor": 4
}
